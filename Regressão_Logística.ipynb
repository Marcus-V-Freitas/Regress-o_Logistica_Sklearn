{
  "nbformat": 4,
  "nbformat_minor": 0,
  "metadata": {
    "colab": {
      "name": "Regressão Logística.ipynb",
      "provenance": [],
      "collapsed_sections": [
        "iMbGRUjBcfoG",
        "R35gMj5efeoj"
      ]
    },
    "kernelspec": {
      "name": "python3",
      "display_name": "Python 3"
    },
    "language_info": {
      "name": "python"
    }
  },
  "cells": [
    {
      "cell_type": "markdown",
      "metadata": {
        "id": "a-t50fNXccek"
      },
      "source": [
        "#Regressão Logística"
      ]
    },
    {
      "cell_type": "code",
      "metadata": {
        "id": "PFu_ssFVcdMm"
      },
      "source": [
        "import pickle\n",
        "import numpy as np\n",
        "from sklearn.linear_model import LogisticRegression\n",
        "from yellowbrick.classifier import ConfusionMatrix\n",
        "from sklearn.metrics import accuracy_score, classification_report"
      ],
      "execution_count": null,
      "outputs": []
    },
    {
      "cell_type": "markdown",
      "metadata": {
        "id": "iMbGRUjBcfoG"
      },
      "source": [
        "###Base risco de crédito"
      ]
    },
    {
      "cell_type": "code",
      "metadata": {
        "id": "8CdJLgRrpAqu"
      },
      "source": [
        "with open('/content/drive/MyDrive/Dataset_pkl/risco_credito.pkl','rb') as f:\n",
        "  X_risco_credito, y_risco_credito=pickle.load(f)"
      ],
      "execution_count": null,
      "outputs": []
    },
    {
      "cell_type": "code",
      "metadata": {
        "colab": {
          "base_uri": "https://localhost:8080/"
        },
        "id": "KQvhq0Smcme7",
        "outputId": "f5683218-1533-48e7-a772-de09b0fd6649"
      },
      "source": [
        "X_risco_credito.shape, y_risco_credito.shape"
      ],
      "execution_count": null,
      "outputs": [
        {
          "output_type": "execute_result",
          "data": {
            "text/plain": [
              "((14, 4), (14,))"
            ]
          },
          "metadata": {
            "tags": []
          },
          "execution_count": 3
        }
      ]
    },
    {
      "cell_type": "code",
      "metadata": {
        "id": "cHG534xBcrUS"
      },
      "source": [
        "X_risco_credito=np.delete(X_risco_credito,[2,7,11],axis=0)\n",
        "y_risco_credito=np.delete(y_risco_credito,[2,7,11],axis=0)"
      ],
      "execution_count": null,
      "outputs": []
    },
    {
      "cell_type": "code",
      "metadata": {
        "colab": {
          "base_uri": "https://localhost:8080/"
        },
        "id": "h9JXMa-WdUC2",
        "outputId": "91b7df8c-954b-4013-eeb5-1fd27d3cec45"
      },
      "source": [
        "len(X_risco_credito), len(y_risco_credito)"
      ],
      "execution_count": null,
      "outputs": [
        {
          "output_type": "execute_result",
          "data": {
            "text/plain": [
              "(11, 11)"
            ]
          },
          "metadata": {
            "tags": []
          },
          "execution_count": 6
        }
      ]
    },
    {
      "cell_type": "code",
      "metadata": {
        "id": "B96Xfq2DdZqG"
      },
      "source": [
        "logistic_risco_credit=LogisticRegression(random_state=1)"
      ],
      "execution_count": null,
      "outputs": []
    },
    {
      "cell_type": "code",
      "metadata": {
        "colab": {
          "base_uri": "https://localhost:8080/"
        },
        "id": "b7JUpdPZeNHM",
        "outputId": "cf87ddf0-ff0e-43e7-c0b8-87650b46233a"
      },
      "source": [
        "logistic_risco_credit.fit(X_risco_credito,y_risco_credito)"
      ],
      "execution_count": null,
      "outputs": [
        {
          "output_type": "execute_result",
          "data": {
            "text/plain": [
              "LogisticRegression(C=1.0, class_weight=None, dual=False, fit_intercept=True,\n",
              "                   intercept_scaling=1, l1_ratio=None, max_iter=100,\n",
              "                   multi_class='auto', n_jobs=None, penalty='l2',\n",
              "                   random_state=1, solver='lbfgs', tol=0.0001, verbose=0,\n",
              "                   warm_start=False)"
            ]
          },
          "metadata": {
            "tags": []
          },
          "execution_count": 9
        }
      ]
    },
    {
      "cell_type": "code",
      "metadata": {
        "colab": {
          "base_uri": "https://localhost:8080/"
        },
        "id": "jaALEfUYeeOS",
        "outputId": "a80c2f3f-bccf-4edc-df91-436a51f0f837"
      },
      "source": [
        "logistic_risco_credit.intercept_ #Global"
      ],
      "execution_count": null,
      "outputs": [
        {
          "output_type": "execute_result",
          "data": {
            "text/plain": [
              "array([-0.80828993])"
            ]
          },
          "metadata": {
            "tags": []
          },
          "execution_count": 10
        }
      ]
    },
    {
      "cell_type": "code",
      "metadata": {
        "colab": {
          "base_uri": "https://localhost:8080/"
        },
        "id": "ytGUfvHoeo8l",
        "outputId": "6af58a34-2cee-46fa-b277-394273a6cc1e"
      },
      "source": [
        "logistic_risco_credit.coef_ #Pesos locais de cada atributo"
      ],
      "execution_count": null,
      "outputs": [
        {
          "output_type": "execute_result",
          "data": {
            "text/plain": [
              "array([[-0.76704533,  0.23906678, -0.47976059,  1.12186218]])"
            ]
          },
          "metadata": {
            "tags": []
          },
          "execution_count": 11
        }
      ]
    },
    {
      "cell_type": "code",
      "metadata": {
        "colab": {
          "base_uri": "https://localhost:8080/"
        },
        "id": "dTR9Oxn-fEZL",
        "outputId": "af735bcc-053b-4183-8c0c-0f2955b975bb"
      },
      "source": [
        "#História boa, dívida alta, garantia nenhuma, renda > 35\n",
        "#História ruim, dívida alta, garantia adequada, renda < 15\n",
        "previsoes1=logistic_risco_credit.predict([[0,0,1,2],[2,0,0,0]])\n",
        "previsoes1"
      ],
      "execution_count": null,
      "outputs": [
        {
          "output_type": "execute_result",
          "data": {
            "text/plain": [
              "array(['baixo', 'alto'], dtype=object)"
            ]
          },
          "metadata": {
            "tags": []
          },
          "execution_count": 12
        }
      ]
    },
    {
      "cell_type": "markdown",
      "metadata": {
        "id": "R35gMj5efeoj"
      },
      "source": [
        "###Base Credit Data"
      ]
    },
    {
      "cell_type": "code",
      "metadata": {
        "id": "jb2md2fpfhPn"
      },
      "source": [
        "with open('/content/drive/MyDrive/Dataset_pkl/credit.pkl','rb') as f:\n",
        "  X_credit_treinamento, y_credit_treinamento, X_credit_teste, y_credit_teste=pickle.load(f)"
      ],
      "execution_count": null,
      "outputs": []
    },
    {
      "cell_type": "code",
      "metadata": {
        "colab": {
          "base_uri": "https://localhost:8080/"
        },
        "id": "5PkfOOlvfywP",
        "outputId": "833e03f1-7487-49b5-9a02-1635d0783712"
      },
      "source": [
        "X_credit_treinamento.shape, y_credit_treinamento.shape"
      ],
      "execution_count": null,
      "outputs": [
        {
          "output_type": "execute_result",
          "data": {
            "text/plain": [
              "((1500, 3), (1500,))"
            ]
          },
          "metadata": {
            "tags": []
          },
          "execution_count": 14
        }
      ]
    },
    {
      "cell_type": "code",
      "metadata": {
        "colab": {
          "base_uri": "https://localhost:8080/"
        },
        "id": "17kJKSeXf1yG",
        "outputId": "e77cff65-0a2b-47fd-a37d-351eff4853ae"
      },
      "source": [
        "X_credit_teste.shape, y_credit_teste.shape"
      ],
      "execution_count": null,
      "outputs": [
        {
          "output_type": "execute_result",
          "data": {
            "text/plain": [
              "((500, 3), (500,))"
            ]
          },
          "metadata": {
            "tags": []
          },
          "execution_count": 15
        }
      ]
    },
    {
      "cell_type": "code",
      "metadata": {
        "id": "n1OdVA8Ff5xz"
      },
      "source": [
        "logistic_credit=LogisticRegression(random_state=1)"
      ],
      "execution_count": null,
      "outputs": []
    },
    {
      "cell_type": "code",
      "metadata": {
        "id": "NS08PYwbf-el"
      },
      "source": [
        "logistic_credit.fit(X_credit_treinamento,y_credit_treinamento);"
      ],
      "execution_count": null,
      "outputs": []
    },
    {
      "cell_type": "code",
      "metadata": {
        "colab": {
          "base_uri": "https://localhost:8080/"
        },
        "id": "L4feIJMagBjk",
        "outputId": "f6957b05-8910-4453-afba-cc6fb5af3c03"
      },
      "source": [
        "logistic_credit.intercept_ "
      ],
      "execution_count": null,
      "outputs": [
        {
          "output_type": "execute_result",
          "data": {
            "text/plain": [
              "array([-6.02976095])"
            ]
          },
          "metadata": {
            "tags": []
          },
          "execution_count": 19
        }
      ]
    },
    {
      "cell_type": "code",
      "metadata": {
        "colab": {
          "base_uri": "https://localhost:8080/"
        },
        "id": "yjTQFG5AgIEk",
        "outputId": "a2817009-f7d7-4989-d329-72a50b56f35d"
      },
      "source": [
        "logistic_credit.coef_"
      ],
      "execution_count": null,
      "outputs": [
        {
          "output_type": "execute_result",
          "data": {
            "text/plain": [
              "array([[-2.54927091, -3.72279861,  3.93940349]])"
            ]
          },
          "metadata": {
            "tags": []
          },
          "execution_count": 20
        }
      ]
    },
    {
      "cell_type": "code",
      "metadata": {
        "id": "yn-PQcbvgJu0"
      },
      "source": [
        "previsoes=logistic_credit.predict(X_credit_teste)"
      ],
      "execution_count": null,
      "outputs": []
    },
    {
      "cell_type": "code",
      "metadata": {
        "colab": {
          "base_uri": "https://localhost:8080/"
        },
        "id": "vACi4j3KgXNc",
        "outputId": "2af96daa-9c9c-4a67-d31c-8bc45f9c75c2"
      },
      "source": [
        "accuracy_score(y_credit_teste,previsoes)  "
      ],
      "execution_count": null,
      "outputs": [
        {
          "output_type": "execute_result",
          "data": {
            "text/plain": [
              "0.946"
            ]
          },
          "metadata": {
            "tags": []
          },
          "execution_count": 24
        }
      ]
    },
    {
      "cell_type": "code",
      "metadata": {
        "colab": {
          "base_uri": "https://localhost:8080/",
          "height": 361
        },
        "id": "F3cT2nM5guSW",
        "outputId": "eb1bda15-0e77-45fd-dcdb-3df861888b30"
      },
      "source": [
        "cm=ConfusionMatrix(logistic_credit)\n",
        "cm.fit(X_credit_treinamento,y_credit_treinamento)\n",
        "cm.score(X_credit_teste,y_credit_teste)"
      ],
      "execution_count": null,
      "outputs": [
        {
          "output_type": "execute_result",
          "data": {
            "text/plain": [
              "0.946"
            ]
          },
          "metadata": {
            "tags": []
          },
          "execution_count": 26
        },
        {
          "output_type": "display_data",
          "data": {
            "image/png": "[encoded data removed]",
            "text/plain": [
              "<Figure size 576x396 with 1 Axes>"
            ]
          },
          "metadata": {
            "tags": []
          }
        }
      ]
    },
    {
      "cell_type": "code",
      "metadata": {
        "colab": {
          "base_uri": "https://localhost:8080/"
        },
        "id": "qSFk2t7NhEcM",
        "outputId": "57a07c87-28c2-48f5-e797-2d186c8dc1c7"
      },
      "source": [
        "print(classification_report(y_credit_teste,previsoes))"
      ],
      "execution_count": null,
      "outputs": [
        {
          "output_type": "stream",
          "text": [
            "              precision    recall  f1-score   support\n",
            "\n",
            "           0       0.97      0.97      0.97       436\n",
            "           1       0.79      0.78      0.79        64\n",
            "\n",
            "    accuracy                           0.95       500\n",
            "   macro avg       0.88      0.88      0.88       500\n",
            "weighted avg       0.95      0.95      0.95       500\n",
            "\n"
          ],
          "name": "stdout"
        }
      ]
    },
    {
      "cell_type": "markdown",
      "metadata": {
        "id": "M4u6mjkWhQYD"
      },
      "source": [
        "###Base Census"
      ]
    },
    {
      "cell_type": "code",
      "metadata": {
        "id": "sgUmuw8HhR1h"
      },
      "source": [
        "with open('/content/drive/MyDrive/Dataset_pkl/census.pkl','rb') as f:\n",
        "  X_census_treinamento, y_census_treinamento, X_census_teste, y_census_teste=pickle.load(f)"
      ],
      "execution_count": null,
      "outputs": []
    },
    {
      "cell_type": "code",
      "metadata": {
        "colab": {
          "base_uri": "https://localhost:8080/"
        },
        "id": "3W17JvqChlgJ",
        "outputId": "8ac87af8-27c4-4559-cf21-3c6df833cbae"
      },
      "source": [
        "X_census_treinamento.shape, y_census_treinamento.shape"
      ],
      "execution_count": null,
      "outputs": [
        {
          "output_type": "execute_result",
          "data": {
            "text/plain": [
              "((27676, 108), (27676,))"
            ]
          },
          "metadata": {
            "tags": []
          },
          "execution_count": 30
        }
      ]
    },
    {
      "cell_type": "code",
      "metadata": {
        "colab": {
          "base_uri": "https://localhost:8080/"
        },
        "id": "SOW1bKlJhsi6",
        "outputId": "c470746e-ae4b-4a80-bdb7-e96a0bde002a"
      },
      "source": [
        "X_census_teste.shape, y_census_teste.shape"
      ],
      "execution_count": null,
      "outputs": [
        {
          "output_type": "execute_result",
          "data": {
            "text/plain": [
              "((4885, 108), (4885,))"
            ]
          },
          "metadata": {
            "tags": []
          },
          "execution_count": 31
        }
      ]
    },
    {
      "cell_type": "code",
      "metadata": {
        "id": "kqrbmwmqhvOr"
      },
      "source": [
        "logistic_census=LogisticRegression(random_state=1)"
      ],
      "execution_count": null,
      "outputs": []
    },
    {
      "cell_type": "code",
      "metadata": {
        "id": "WPDIkIFOh08h"
      },
      "source": [
        "logistic_census.fit(X_census_treinamento,y_census_treinamento);"
      ],
      "execution_count": null,
      "outputs": []
    },
    {
      "cell_type": "code",
      "metadata": {
        "id": "RanrJulAh7EW"
      },
      "source": [
        "previsoes=logistic_census.predict(X_census_teste)"
      ],
      "execution_count": null,
      "outputs": []
    },
    {
      "cell_type": "code",
      "metadata": {
        "colab": {
          "base_uri": "https://localhost:8080/"
        },
        "id": "x0PrJcHziBJ4",
        "outputId": "a9257788-e396-49fd-a3e7-6d795c6aad63"
      },
      "source": [
        "accuracy_score(y_census_teste,previsoes)"
      ],
      "execution_count": null,
      "outputs": [
        {
          "output_type": "execute_result",
          "data": {
            "text/plain": [
              "0.849539406345957"
            ]
          },
          "metadata": {
            "tags": []
          },
          "execution_count": 35
        }
      ]
    },
    {
      "cell_type": "code",
      "metadata": {
        "colab": {
          "base_uri": "https://localhost:8080/",
          "height": 393
        },
        "id": "xxd95gXNiGef",
        "outputId": "82372e78-f463-4285-972f-219e5ec16aa5"
      },
      "source": [
        "cm=ConfusionMatrix(logistic_census)\n",
        "cm.fit(X_census_treinamento,y_census_treinamento)\n",
        "cm.score(X_census_teste,y_census_teste)"
      ],
      "execution_count": null,
      "outputs": [
        {
          "output_type": "execute_result",
          "data": {
            "text/plain": [
              "0.849539406345957"
            ]
          },
          "metadata": {
            "tags": []
          },
          "execution_count": 36
        },
        {
          "output_type": "display_data",
          "data": {
            "image/png": "[encoded data removed]",
            "text/plain": [
              "<Figure size 576x396 with 1 Axes>"
            ]
          },
          "metadata": {
            "tags": []
          }
        }
      ]
    },
    {
      "cell_type": "code",
      "metadata": {
        "colab": {
          "base_uri": "https://localhost:8080/"
        },
        "id": "-hLHKIdFiOt5",
        "outputId": "1f2b56be-8036-4158-fe98-691535ee5c67"
      },
      "source": [
        "print(classification_report(y_census_teste,previsoes))"
      ],
      "execution_count": null,
      "outputs": [
        {
          "output_type": "stream",
          "text": [
            "              precision    recall  f1-score   support\n",
            "\n",
            "       <=50K       0.88      0.93      0.90      3693\n",
            "        >50K       0.73      0.61      0.66      1192\n",
            "\n",
            "    accuracy                           0.85      4885\n",
            "   macro avg       0.80      0.77      0.78      4885\n",
            "weighted avg       0.84      0.85      0.84      4885\n",
            "\n"
          ],
          "name": "stdout"
        }
      ]
    }
  ]
}